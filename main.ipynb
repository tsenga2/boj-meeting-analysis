{
  "nbformat": 4,
  "nbformat_minor": 0,
  "metadata": {
    "colab": {
      "provenance": [],
      "authorship_tag": "ABX9TyPs/djyiKpEHclWMbOpPRPi",
      "include_colab_link": true
    },
    "kernelspec": {
      "name": "python3",
      "display_name": "Python 3"
    },
    "language_info": {
      "name": "python"
    }
  },
  "cells": [
    {
      "cell_type": "markdown",
      "metadata": {
        "id": "view-in-github",
        "colab_type": "text"
      },
      "source": [
        "<a href=\"https://colab.research.google.com/github/tsenga2/boj-meeting-analysis/blob/main/main.ipynb\" target=\"_parent\"><img src=\"https://colab.research.google.com/assets/colab-badge.svg\" alt=\"Open In Colab\"/></a>"
      ]
    },
    {
      "cell_type": "code",
      "execution_count": null,
      "metadata": {
        "id": "CqQrau_2AIIj"
      },
      "outputs": [],
      "source": [
        "# 1. Mount Google Drive\n",
        "from google.colab import drive\n",
        "drive.mount('/content/drive')"
      ]
    },
    {
      "cell_type": "code",
      "source": [
        "# 2. Clone the repository\n",
        "!git clone https://github.com/tsenga2/boj-meeting-analysis.git\n",
        "%cd boj-meeting-analysis"
      ],
      "metadata": {
        "id": "vLc1EBW8A6uX"
      },
      "execution_count": null,
      "outputs": []
    },
    {
      "cell_type": "code",
      "source": [
        "# 3. Install required packages\n",
        "!apt-get update\n",
        "!apt-get install -y tesseract-ocr tesseract-ocr-jpn poppler-utils mecab libmecab-dev mecab-ipadic-utf8\n",
        "!pip install pdf2image pytesseract mecab-python3 yfinance pandas-datareader scikit-learn numpy pandas matplotlib seaborn requests beautifulsoup4 lxml tqdm"
      ],
      "metadata": {
        "id": "5K6MsPZEA-sQ"
      },
      "execution_count": null,
      "outputs": []
    },
    {
      "cell_type": "code",
      "source": [
        "# 4. Run the analysis (import from main.py and set Google Drive paths)\n",
        "import os\n",
        "import sys\n",
        "sys.path.append('.')\n",
        "from main import get_boj_meeting_dates, download_boj_press_conferences, download_boj_pdfs, extract_boj_minutes_text, analyze_meeting_texts, fetch_market_data, calculate_inter_meeting_stats, combine_text_and_market_analysis, analyze_similarity_market_relationship\n",
        "\n",
        "# Set paths to Google Drive\n",
        "BASE_DIR = '/content/drive/MyDrive/BOJ_Analysis'\n",
        "PDF_DIR = os.path.join(BASE_DIR, 'pdfs')\n",
        "OUTPUT_DIR = os.path.join(BASE_DIR, 'output')\n",
        "\n",
        "# Create directories\n",
        "for directory in [BASE_DIR, PDF_DIR, OUTPUT_DIR]:\n",
        "    os.makedirs(directory, exist_ok=True)\n",
        "\n"
      ],
      "metadata": {
        "id": "Nn1Jk157BAl3"
      },
      "execution_count": null,
      "outputs": []
    },
    {
      "cell_type": "code",
      "source": [
        "# Run analysis steps\n",
        "print(\"Step 1: Get BOJ meeting dates\")\n",
        "meeting_dates = get_boj_meeting_dates()\n",
        "\n"
      ],
      "metadata": {
        "id": "fa5NF8ZqBEId"
      },
      "execution_count": null,
      "outputs": []
    },
    {
      "cell_type": "code",
      "source": [
        "print(\"Step 2: Download BOJ meeting PDFs\")\n",
        "download_boj_pdfs(range(2006,2010))  # Adjust year range as needed\n",
        "download_boj_press_conferences(2010, 2024)\n",
        "\n"
      ],
      "metadata": {
        "id": "0mIULuCtBFXl"
      },
      "execution_count": null,
      "outputs": []
    },
    {
      "cell_type": "code",
      "source": [
        "print(\"Step 3: Analyze meeting texts\")\n",
        "#text_df = analyze_meeting_texts(pdf_dir=PDF_DIR, max_pages=1)\n",
        "text_df = extract_boj_minutes_text()"
      ],
      "metadata": {
        "id": "hb-ED-obBEGC"
      },
      "execution_count": null,
      "outputs": []
    },
    {
      "cell_type": "code",
      "source": [
        "print(\"Step 4: Fetch market data\")\n",
        "market_data = fetch_market_data()\n",
        "\n"
      ],
      "metadata": {
        "id": "eX7xtAG8BEDj"
      },
      "execution_count": null,
      "outputs": []
    },
    {
      "cell_type": "code",
      "source": [
        "print(\"Step 5: Calculate market statistics\")\n",
        "market_stats = calculate_inter_meeting_stats(market_data, meeting_dates)\n",
        "\n"
      ],
      "metadata": {
        "id": "FUwvTaGKBEA0"
      },
      "execution_count": null,
      "outputs": []
    },
    {
      "cell_type": "code",
      "source": [
        "print(\"Step 6: Combine analyses\")\n",
        "combined_df = combine_text_and_market_analysis(text_df, market_stats)\n",
        "\n"
      ],
      "metadata": {
        "id": "gA5TUALABD-R"
      },
      "execution_count": null,
      "outputs": []
    },
    {
      "cell_type": "code",
      "source": [
        "print(\"Step 7: Analyze relationship\")\n",
        "correlation_df, group_stats = analyze_similarity_market_relationship(combined_df)\n",
        "\n",
        "print(\"Analysis complete!\")"
      ],
      "metadata": {
        "id": "-QtLVptkBD3-"
      },
      "execution_count": null,
      "outputs": []
    },
    {
      "cell_type": "code",
      "source": [],
      "metadata": {
        "id": "F6juSeTdBDsT"
      },
      "execution_count": null,
      "outputs": []
    }
  ]
}